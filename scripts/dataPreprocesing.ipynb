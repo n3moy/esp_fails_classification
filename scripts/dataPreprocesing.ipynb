{
 "cells": [
  {
   "cell_type": "code",
   "execution_count": 1,
   "metadata": {
    "pycharm": {
     "name": "#%%\n"
    }
   },
   "outputs": [],
   "source": [
    "%load_ext autoreload\n",
    "%autoreload 2\n",
    "\n",
    "import os\n",
    "import numpy as np\n",
    "import pandas as pd\n",
    "import matplotlib.pyplot as plt\n",
    "import seaborn as sns\n",
    "from datetime import datetime\n",
    "\n",
    "import data_preprocessing as data_prep\n",
    "from renameFeatures import rename_features, get_data_summary, get_data_summary2\n",
    "from data_vizualization import metrics_plotting, metrics_plotting_with_events"
   ]
  },
  {
   "cell_type": "markdown",
   "metadata": {
    "pycharm": {
     "name": "#%% md\n"
    }
   },
   "source": [
    "#### Data renaming and summary collection TOBE"
   ]
  },
  {
   "cell_type": "code",
   "execution_count": 2,
   "metadata": {
    "pycharm": {
     "name": "#%%\n"
    }
   },
   "outputs": [],
   "source": [
    "DO_RENAME = False\n",
    "DO_JOIN = False"
   ]
  },
  {
   "cell_type": "code",
   "execution_count": 3,
   "metadata": {
    "pycharm": {
     "name": "#%%\n"
    }
   },
   "outputs": [],
   "source": [
    "PATH = \"C:\\\\Users\\\\vladv\\\\predictiveAnalytics\\\\data\\\\\""
   ]
  },
  {
   "cell_type": "code",
   "execution_count": 4,
   "metadata": {
    "pycharm": {
     "name": "#%%\n"
    }
   },
   "outputs": [],
   "source": [
    "# All wells data is located in 1 to 6 folders\n",
    "if DO_RENAME:\n",
    "    for well in range(1, 9):\n",
    "        print(f\"WELL: {well}\")\n",
    "        directory = PATH + str(well)\n",
    "        rename_features(directory)"
   ]
  },
  {
   "cell_type": "markdown",
   "metadata": {
    "pycharm": {
     "name": "#%% md\n"
    }
   },
   "source": [
    "#### Data joining"
   ]
  },
  {
   "cell_type": "markdown",
   "metadata": {
    "pycharm": {
     "name": "#%% md\n"
    }
   },
   "source": [
    "I tried multiple methods from resampling to union, interpolating etc. All of them loose some data dynamics or give too much observations if total. <br>So I've decided to use forward filling (ffill) to pivot table of all the features per well"
   ]
  },
  {
   "cell_type": "code",
   "execution_count": 5,
   "metadata": {
    "pycharm": {
     "name": "#%%\n"
    }
   },
   "outputs": [],
   "source": [
    "# I'll use wells that have needed operational regime due to complexness of data\n",
    "wells_final = [1, 4, 7, 8]\n",
    "# wells_final = [2, 3, 6]"
   ]
  },
  {
   "cell_type": "code",
   "execution_count": 6,
   "metadata": {
    "pycharm": {
     "name": "#%%\n"
    }
   },
   "outputs": [
    {
     "name": "stdout",
     "output_type": "stream",
     "text": [
      "DIRECTORY: 1\n",
      "DIRECTORY: 4\n",
      "DIRECTORY: 7\n",
      "DIRECTORY: 8\n"
     ]
    }
   ],
   "source": [
    "# All the data needed is located in folders named from 1 to 6\n",
    "wells_data = []\n",
    "all_events = data_prep.get_events_summary(PATH)\n",
    "\n",
    "for well in wells_final:\n",
    "    print(f\"DIRECTORY: {well}\")\n",
    "    directory = PATH + \"\\\\\" + str(well)\n",
    "    if DO_JOIN:\n",
    "        full_data = data_prep.join_data_v2(directory)\n",
    "    else:\n",
    "        file_name = \"full_data_events.csv\"\n",
    "        full_data = pd.read_csv(directory+\"\\\\\" + file_name)\n",
    "        if well in [2, 3, 6]:\n",
    "            full_data = data_prep.join_events_to_data(full_data, all_events)\n",
    "\n",
    "    full_data[\"time\"] = pd.to_datetime(full_data[\"time\"])\n",
    "    wells_data.append(full_data)"
   ]
  },
  {
   "cell_type": "code",
   "execution_count": 7,
   "metadata": {
    "pycharm": {
     "name": "#%%\n"
    }
   },
   "outputs": [],
   "source": [
    "# map_wells_index = {1: 0, 4: 1, 7: 2, 8: 3}\n",
    "map_wells_index = {1: 0, 2: 1, 3: 2, 4: 3, 6: 4, 7: 5, 8: 6}"
   ]
  },
  {
   "cell_type": "code",
   "execution_count": 8,
   "metadata": {
    "pycharm": {
     "name": "#%%\n"
    }
   },
   "outputs": [],
   "source": [
    "well_to_check = 2\n",
    "test_data = wells_data[map_wells_index[well_to_check]].copy()"
   ]
  },
  {
   "cell_type": "markdown",
   "metadata": {
    "pycharm": {
     "name": "#%% md\n"
    }
   },
   "source": [
    "Most wells present periods in frequency, operational current, active power and motor load.<br>Also some metrics show outliers, I'll leave it for now"
   ]
  },
  {
   "cell_type": "code",
   "execution_count": 9,
   "metadata": {
    "pycharm": {
     "name": "#%%\n"
    }
   },
   "outputs": [],
   "source": [
    "test_data.isna().sum().to_frame().to_clipboard()"
   ]
  },
  {
   "cell_type": "code",
   "execution_count": 10,
   "metadata": {
    "pycharm": {
     "name": "#%%\n"
    }
   },
   "outputs": [
    {
     "data": {
      "text/plain": [
       "0.09657607744351175"
      ]
     },
     "execution_count": 10,
     "metadata": {},
     "output_type": "execute_result"
    }
   ],
   "source": [
    "test_data[test_data[\"event_id\"] != 0].shape[0]/test_data.shape[0]"
   ]
  },
  {
   "cell_type": "markdown",
   "metadata": {
    "pycharm": {
     "name": "#%% md\n"
    }
   },
   "source": [
    "Vizualizing events "
   ]
  },
  {
   "cell_type": "code",
   "execution_count": 11,
   "metadata": {
    "pycharm": {
     "name": "#%%\n"
    }
   },
   "outputs": [],
   "source": [
    "# all_events = data_prep.get_events_summary(PATH)\n",
    "events_needed = all_events[all_events[\"well_id\"] == well_to_check]"
   ]
  },
  {
   "cell_type": "code",
   "execution_count": 12,
   "metadata": {
    "pycharm": {
     "name": "#%%\n"
    }
   },
   "outputs": [
    {
     "data": {
      "text/plain": [
       "1"
      ]
     },
     "execution_count": 12,
     "metadata": {},
     "output_type": "execute_result"
    }
   ],
   "source": [
    "wells_data[0].columns.tolist().count(\"time\")"
   ]
  },
  {
   "cell_type": "code",
   "execution_count": 13,
   "metadata": {
    "pycharm": {
     "name": "#%%\n"
    }
   },
   "outputs": [],
   "source": [
    "# metrics_plotting_with_events(test_data, events_needed)"
   ]
  },
  {
   "cell_type": "markdown",
   "metadata": {
    "pycharm": {
     "name": "#%% md\n"
    }
   },
   "source": [
    "Now with much higher frequency of data it seems difficult to conclude something, but some observations:\n",
    "\n",
    "- Looks like event 962 correlates with gas breakthrough, but not everywhere\n",
    "- Events 965 and 674 might be dependent on power of the pump\n",
    "- Intake Pressure has high values not leading to any failure referencing to the events data. Measurment error?\n",
    "- Why does oil rate falls to zero, but liquid rate remains > 0? Futhermore when it appears at the end of 2021 year it's higher than liquid rate???\n",
    "\n",
    "I decided to code new function \"check_oil_rate\" to check oil rate values, because now its behavior looks incorrect"
   ]
  },
  {
   "cell_type": "code",
   "execution_count": 14,
   "metadata": {
    "pycharm": {
     "name": "#%%\n"
    }
   },
   "outputs": [
    {
     "data": {
      "text/plain": [
       "<AxesSubplot:>"
      ]
     },
     "execution_count": 14,
     "metadata": {},
     "output_type": "execute_result"
    },
    {
     "data": {
      "image/png": "[encoded data removed]",
      "text/plain": [
       "<Figure size 1080x576 with 2 Axes>"
      ]
     },
     "metadata": {
      "needs_background": "light"
     },
     "output_type": "display_data"
    }
   ],
   "source": [
    "plt.figure(figsize=(15, 8))\n",
    "sns.heatmap(test_data.drop([\"event_id\", \"well\"], axis=1).corr(), annot=True)"
   ]
  },
  {
   "cell_type": "markdown",
   "metadata": {
    "pycharm": {
     "name": "#%% md\n"
    }
   },
   "source": [
    "From correlation matrix we can conclude that features: motor_load + active_power, motor_load + electicity_gage, currents, voltages are highly correlated. Thus one of the pairs can be removed from datasets"
   ]
  },
  {
   "cell_type": "code",
   "execution_count": 15,
   "metadata": {
    "pycharm": {
     "name": "#%%\n"
    }
   },
   "outputs": [],
   "source": [
    "DO_DROPNA = True"
   ]
  },
  {
   "cell_type": "code",
   "execution_count": 16,
   "metadata": {
    "pycharm": {
     "name": "#%%\n"
    }
   },
   "outputs": [],
   "source": [
    "if DO_DROPNA:\n",
    "    for df in wells_data:\n",
    "        df.dropna(inplace=True)\n",
    "    \n",
    "    data_prep.check_nans(wells_data)"
   ]
  },
  {
   "cell_type": "code",
   "execution_count": 17,
   "metadata": {
    "pycharm": {
     "name": "#%%\n"
    }
   },
   "outputs": [
    {
     "data": {
      "text/plain": [
       "0      283578\n",
       "759     12420\n",
       "266     10080\n",
       "267      3600\n",
       "7        3360\n",
       "962      2160\n",
       "966      1440\n",
       "268       720\n",
       "Name: event_id, dtype: int64"
      ]
     },
     "execution_count": 17,
     "metadata": {},
     "output_type": "execute_result"
    }
   ],
   "source": [
    "wells_data[0][\"event_id\"].value_counts()"
   ]
  },
  {
   "cell_type": "code",
   "execution_count": 18,
   "metadata": {
    "pycharm": {
     "name": "#%%\n"
    }
   },
   "outputs": [
    {
     "name": "stdout",
     "output_type": "stream",
     "text": [
      "Mem. usage decreased to 28.75 Mb (48.4% reduction)\n",
      "Mem. usage decreased to 19.78 Mb (48.0% reduction)\n",
      "Mem. usage decreased to 16.60 Mb (48.3% reduction)\n",
      "Mem. usage decreased to 16.61 Mb (48.3% reduction)\n"
     ]
    }
   ],
   "source": [
    "# Reduce memory usage\n",
    "\n",
    "for df in wells_data:\n",
    "    df = data_prep.reduce_mem_usage(df)"
   ]
  },
  {
   "cell_type": "code",
   "execution_count": 19,
   "metadata": {
    "pycharm": {
     "name": "#%%\n"
    }
   },
   "outputs": [
    {
     "data": {
      "text/plain": [
       "0      283578\n",
       "759     12420\n",
       "266     10080\n",
       "267      3600\n",
       "7        3360\n",
       "962      2160\n",
       "966      1440\n",
       "268       720\n",
       "Name: event_id, dtype: int64"
      ]
     },
     "execution_count": 19,
     "metadata": {},
     "output_type": "execute_result"
    }
   ],
   "source": [
    "wells_data[0][\"event_id\"].value_counts()"
   ]
  },
  {
   "cell_type": "markdown",
   "metadata": {
    "pycharm": {
     "name": "#%% md\n"
    }
   },
   "source": [
    "### Feature Engineering"
   ]
  },
  {
   "cell_type": "code",
   "execution_count": 20,
   "metadata": {
    "pycharm": {
     "name": "#%%\n"
    }
   },
   "outputs": [
    {
     "data": {
      "text/plain": [
       "Index(['time', 'active_power', 'electricity_gage', 'frequency',\n",
       "       'intake_pressure', 'line_pressure', 'liquid_rate', 'motor_load',\n",
       "       'motor_temperature', 'op_current1', 'op_current2', 'op_current3',\n",
       "       'pump_temperature', 'voltageAB', 'voltageBC', 'voltageCA', 'well',\n",
       "       'event_id'],\n",
       "      dtype='object')"
      ]
     },
     "execution_count": 20,
     "metadata": {},
     "output_type": "execute_result"
    }
   ],
   "source": [
    "wells_data[1].columns"
   ]
  },
  {
   "cell_type": "code",
   "execution_count": 21,
   "metadata": {
    "pycharm": {
     "name": "#%%\n"
    }
   },
   "outputs": [
    {
     "name": "stdout",
     "output_type": "stream",
     "text": [
      "1\n",
      "(317358, 22)\n",
      "4\n",
      "(262488, 18)\n",
      "7\n",
      "(191236, 21)\n",
      "8\n",
      "(191443, 21)\n"
     ]
    }
   ],
   "source": [
    "common_cols = [wells_data[0].columns]\n",
    "for df in wells_data:\n",
    "    cols = df.columns\n",
    "    common_cols = np.intersect1d(common_cols, cols)\n",
    "    print(df[\"well\"].values[0])\n",
    "    print(df.shape)"
   ]
  },
  {
   "cell_type": "code",
   "execution_count": 22,
   "metadata": {
    "pycharm": {
     "name": "#%%\n"
    }
   },
   "outputs": [
    {
     "data": {
      "text/plain": [
       "array(['active_power', 'electricity_gage', 'event_id', 'frequency',\n",
       "       'intake_pressure', 'line_pressure', 'liquid_rate', 'motor_load',\n",
       "       'motor_temperature', 'op_current1', 'op_current2', 'op_current3',\n",
       "       'pump_temperature', 'time', 'voltageAB', 'voltageBC', 'voltageCA',\n",
       "       'well'], dtype=object)"
      ]
     },
     "execution_count": 22,
     "metadata": {},
     "output_type": "execute_result"
    }
   ],
   "source": [
    "common_cols"
   ]
  },
  {
   "cell_type": "code",
   "execution_count": 23,
   "metadata": {
    "pycharm": {
     "name": "#%%\n"
    }
   },
   "outputs": [
    {
     "name": "stdout",
     "output_type": "stream",
     "text": [
      "(317358, 58)\n",
      "(262488, 58)\n",
      "(191236, 58)\n",
      "(191443, 58)\n"
     ]
    }
   ],
   "source": [
    "data_fe = []\n",
    "\n",
    "for df in wells_data:\n",
    "    df = df[common_cols]\n",
    "    temp = data_prep.features_calculation(df)\n",
    "    data_fe.append(temp)\n",
    "    print(temp.shape)"
   ]
  },
  {
   "cell_type": "code",
   "execution_count": 24,
   "metadata": {
    "pycharm": {
     "name": "#%%\n"
    }
   },
   "outputs": [
    {
     "data": {
      "text/plain": [
       "962525"
      ]
     },
     "execution_count": 24,
     "metadata": {},
     "output_type": "execute_result"
    }
   ],
   "source": [
    "data_fe[0].shape[0] + data_fe[1].shape[0] + data_fe[2].shape[0] + data_fe[3].shape[0]"
   ]
  },
  {
   "cell_type": "code",
   "execution_count": 25,
   "metadata": {
    "pycharm": {
     "name": "#%%\n"
    }
   },
   "outputs": [
    {
     "data": {
      "text/plain": [
       "0      283578\n",
       "759     12420\n",
       "266     10080\n",
       "267      3600\n",
       "7        3360\n",
       "962      2160\n",
       "966      1440\n",
       "268       720\n",
       "Name: event_id, dtype: int64"
      ]
     },
     "execution_count": 25,
     "metadata": {},
     "output_type": "execute_result"
    }
   ],
   "source": [
    "wells_data[0][\"event_id\"].value_counts()"
   ]
  },
  {
   "cell_type": "code",
   "execution_count": 26,
   "metadata": {
    "pycharm": {
     "name": "#%%\n"
    }
   },
   "outputs": [],
   "source": [
    "# summary2 = get_data_summary2(data_fe[0].drop([\"well\", \"event_id\"], axis=1))"
   ]
  },
  {
   "cell_type": "code",
   "execution_count": 27,
   "metadata": {
    "pycharm": {
     "name": "#%%\n"
    }
   },
   "outputs": [
    {
     "data": {
      "image/png": "[encoded data removed]",
      "text/plain": [
       "<Figure size 1800x2880 with 4 Axes>"
      ]
     },
     "metadata": {
      "needs_background": "light"
     },
     "output_type": "display_data"
    }
   ],
   "source": [
    "plt.figure(figsize=(25, 40))\n",
    "for i, df in enumerate(wells_data):\n",
    "    plt.subplot(len(wells_data), 2, i+1)\n",
    "    ax = sns.countplot(x=df[\"event_id\"], order=df[\"event_id\"].value_counts(ascending=False).index)\n",
    "    abs_values = df['event_id'].value_counts(ascending=False).values\n",
    "    ax.bar_label(container=ax.containers[0], labels=abs_values)\n",
    "    plt.title(f\"Well - {i+1}\")"
   ]
  },
  {
   "cell_type": "code",
   "execution_count": 28,
   "metadata": {
    "pycharm": {
     "name": "#%%\n"
    }
   },
   "outputs": [
    {
     "name": "stderr",
     "output_type": "stream",
     "text": [
      "c:\\Users\\vladv\\anaconda3\\lib\\site-packages\\pandas\\core\\ops\\array_ops.py:73: FutureWarning: Comparison of Timestamp with datetime.date is deprecated in order to match the standard library behavior.  In a future version these will be considered non-comparable.Use 'ts == pd.Timestamp(date)' or 'ts.date() == date' instead.\n",
      "  result = libops.scalar_compare(x.ravel(), y, op)\n"
     ]
    },
    {
     "name": "stdout",
     "output_type": "stream",
     "text": [
      "Initial shape : 159840, outliers : 36005\n"
     ]
    },
    {
     "name": "stderr",
     "output_type": "stream",
     "text": [
      "c:\\Users\\vladv\\anaconda3\\lib\\site-packages\\pandas\\core\\ops\\array_ops.py:73: FutureWarning: Comparison of Timestamp with datetime.date is deprecated in order to match the standard library behavior.  In a future version these will be considered non-comparable.Use 'ts == pd.Timestamp(date)' or 'ts.date() == date' instead.\n",
      "  result = libops.scalar_compare(x.ravel(), y, op)\n"
     ]
    },
    {
     "name": "stdout",
     "output_type": "stream",
     "text": [
      "Initial shape : 176400, outliers : 43959\n",
      "Initial shape : 191236, outliers : 48979\n",
      "Initial shape : 191443, outliers : 32167\n"
     ]
    }
   ],
   "source": [
    "data_expanded = []\n",
    "\n",
    "for df in data_fe:\n",
    "    temp = data_prep.expand_target(df, split=True)\n",
    "    data_expanded.append(temp)"
   ]
  },
  {
   "cell_type": "code",
   "execution_count": 29,
   "metadata": {
    "pycharm": {
     "name": "#%%\n"
    }
   },
   "outputs": [
    {
     "name": "stdout",
     "output_type": "stream",
     "text": [
      "(123835, 61)\n",
      "(132441, 61)\n",
      "(142257, 61)\n",
      "(159276, 61)\n"
     ]
    }
   ],
   "source": [
    "for df in data_expanded:\n",
    "    print(df.shape)"
   ]
  },
  {
   "cell_type": "code",
   "execution_count": 30,
   "metadata": {
    "pycharm": {
     "name": "#%%\n"
    }
   },
   "outputs": [
    {
     "name": "stderr",
     "output_type": "stream",
     "text": [
      "c:\\Users\\vladv\\anaconda3\\lib\\site-packages\\pandas\\core\\ops\\array_ops.py:73: FutureWarning: Comparison of Timestamp with datetime.date is deprecated in order to match the standard library behavior.  In a future version these will be considered non-comparable.Use 'ts == pd.Timestamp(date)' or 'ts.date() == date' instead.\n",
      "  result = libops.scalar_compare(x.ravel(), y, op)\n"
     ]
    },
    {
     "name": "stdout",
     "output_type": "stream",
     "text": [
      "Joined data shape : (557809, 64)\n"
     ]
    }
   ],
   "source": [
    "train_df, test_df = data_prep.join_data(data_expanded)"
   ]
  },
  {
   "cell_type": "code",
   "execution_count": 31,
   "metadata": {
    "pycharm": {
     "name": "#%%\n"
    }
   },
   "outputs": [
    {
     "name": "stdout",
     "output_type": "stream",
     "text": [
      "Mem. usage decreased to 120.82 Mb (39.6% reduction)\n",
      "Mem. usage decreased to 15.36 Mb (39.6% reduction)\n"
     ]
    }
   ],
   "source": [
    "train_df = data_prep.reduce_mem_usage(train_df)\n",
    "test_df = data_prep.reduce_mem_usage(test_df)"
   ]
  },
  {
   "cell_type": "code",
   "execution_count": 32,
   "metadata": {
    "pycharm": {
     "name": "#%%\n"
    }
   },
   "outputs": [
    {
     "data": {
      "text/plain": [
       "(62924, 494885)"
      ]
     },
     "execution_count": 32,
     "metadata": {},
     "output_type": "execute_result"
    }
   ],
   "source": [
    "test_df.shape[0], train_df.shape[0]"
   ]
  },
  {
   "cell_type": "code",
   "execution_count": 33,
   "metadata": {
    "pycharm": {
     "name": "#%%\n"
    }
   },
   "outputs": [
    {
     "data": {
      "text/plain": [
       "Text(0.5, 0, 'Поломка/нет')"
      ]
     },
     "execution_count": 33,
     "metadata": {},
     "output_type": "execute_result"
    },
    {
     "data": {
      "image/png": "[encoded data removed]",
      "text/plain": [
       "<Figure size 1440x576 with 2 Axes>"
      ]
     },
     "metadata": {
      "needs_background": "light"
     },
     "output_type": "display_data"
    }
   ],
   "source": [
    "plt.figure(figsize=(20, 8))\n",
    "plt.subplot(1, 2, 1)\n",
    "sns.countplot(x=\"failure_target\", data=train_df, alpha=0.75)\n",
    "plt.title(\"Обучающая выборка\")\n",
    "plt.ylabel(\"Количество\")\n",
    "plt.xlabel(\"Поломка/нет\")\n",
    "plt.subplot(1, 2, 2)\n",
    "sns.countplot(x=\"failure_target\", data=test_df, alpha=0.75)\n",
    "plt.title(\"Тестовая выборка\")\n",
    "# plt.legend([1, 2, 3, 4])\n",
    "plt.ylabel(\"Количество\")\n",
    "plt.xlabel(\"Поломка/нет\")"
   ]
  },
  {
   "cell_type": "code",
   "execution_count": 34,
   "metadata": {
    "pycharm": {
     "name": "#%%\n"
    }
   },
   "outputs": [],
   "source": [
    "# plt.figure(figsize=(10, 8))\n",
    "# sns.countplot(x=\"event_id\", data=train_df[train_df[\"event_id\"] != 0], hue=\"well\", alpha=0.75)\n",
    "# plt.legend([1, 2, 3, 4])\n",
    "# plt.ylabel(\"Количество\")\n",
    "# plt.xlabel(\"ID неисправности\")"
   ]
  },
  {
   "cell_type": "code",
   "execution_count": 35,
   "metadata": {
    "pycharm": {
     "name": "#%%\n"
    }
   },
   "outputs": [
    {
     "data": {
      "text/plain": [
       "0      56635\n",
       "966     6242\n",
       "266       47\n",
       "Name: event_id, dtype: int64"
      ]
     },
     "execution_count": 35,
     "metadata": {},
     "output_type": "execute_result"
    }
   ],
   "source": [
    "test_df[\"event_id\"].value_counts()"
   ]
  },
  {
   "cell_type": "code",
   "execution_count": 36,
   "metadata": {
    "pycharm": {
     "name": "#%%\n"
    }
   },
   "outputs": [],
   "source": [
    "get_data_summary2(data_fe[1]).to_clipboard()"
   ]
  },
  {
   "cell_type": "code",
   "execution_count": 37,
   "metadata": {
    "pycharm": {
     "name": "#%%\n"
    }
   },
   "outputs": [
    {
     "data": {
      "text/plain": [
       "(32438, 9872)"
      ]
     },
     "execution_count": 37,
     "metadata": {},
     "output_type": "execute_result"
    }
   ],
   "source": [
    "train_df[\"failure_target\"].sum(), test_df[\"failure_target\"].sum()"
   ]
  },
  {
   "cell_type": "code",
   "execution_count": 38,
   "metadata": {
    "pycharm": {
     "name": "#%%\n"
    }
   },
   "outputs": [
    {
     "data": {
      "text/plain": [
       "(0.06554654111561271, 0.15688767401945203)"
      ]
     },
     "execution_count": 38,
     "metadata": {},
     "output_type": "execute_result"
    }
   ],
   "source": [
    "train_df[\"failure_target\"].mean(), test_df[\"failure_target\"].mean()"
   ]
  },
  {
   "cell_type": "code",
   "execution_count": 40,
   "metadata": {
    "pycharm": {
     "name": "#%%\n"
    }
   },
   "outputs": [],
   "source": [
    "train_df.to_csv(\"./full_joined_clean_data_3_7_daysTRAIN22.csv\")\n",
    "test_df.to_csv(\"./full_joined_clean_data_3_7_daysTEST22.csv\")"
   ]
  },
  {
   "cell_type": "code",
   "execution_count": 49,
   "metadata": {
    "pycharm": {
     "name": "#%%\n"
    }
   },
   "outputs": [],
   "source": [
    "events = data_prep.get_events_summary(PATH)"
   ]
  },
  {
   "cell_type": "code",
   "execution_count": 59,
   "metadata": {
    "pycharm": {
     "name": "#%%\n"
    }
   },
   "outputs": [
    {
     "data": {
      "text/html": [
       "<div>\n",
       "<style scoped>\n",
       "    .dataframe tbody tr th:only-of-type {\n",
       "        vertical-align: middle;\n",
       "    }\n",
       "\n",
       "    .dataframe tbody tr th {\n",
       "        vertical-align: top;\n",
       "    }\n",
       "\n",
       "    .dataframe thead th {\n",
       "        text-align: right;\n",
       "    }\n",
       "</style>\n",
       "<table border=\"1\" class=\"dataframe\">\n",
       "  <thead>\n",
       "    <tr style=\"text-align: right;\">\n",
       "      <th></th>\n",
       "      <th>event</th>\n",
       "      <th>startDate</th>\n",
       "      <th>endDate</th>\n",
       "      <th>level</th>\n",
       "      <th>losses</th>\n",
       "      <th>well_id</th>\n",
       "    </tr>\n",
       "  </thead>\n",
       "  <tbody>\n",
       "    <tr>\n",
       "      <th>27</th>\n",
       "      <td>Неустановившейся режим</td>\n",
       "      <td>2021-05-11 01:30:09.019</td>\n",
       "      <td>2021-05-18 01:30:09.019</td>\n",
       "      <td>Отказ</td>\n",
       "      <td>0.0</td>\n",
       "      <td>1</td>\n",
       "    </tr>\n",
       "    <tr>\n",
       "      <th>28</th>\n",
       "      <td>Неустановившейся режим</td>\n",
       "      <td>2021-05-01 06:32:41.000</td>\n",
       "      <td>2021-05-08 06:32:41.000</td>\n",
       "      <td>Отказ</td>\n",
       "      <td>0.0</td>\n",
       "      <td>1</td>\n",
       "    </tr>\n",
       "    <tr>\n",
       "      <th>9</th>\n",
       "      <td>Неустановившейся режим</td>\n",
       "      <td>2021-05-26 11:31:19.618</td>\n",
       "      <td>2021-06-02 11:31:19.618</td>\n",
       "      <td>Отказ</td>\n",
       "      <td>0.0</td>\n",
       "      <td>4</td>\n",
       "    </tr>\n",
       "    <tr>\n",
       "      <th>10</th>\n",
       "      <td>Неустановившейся режим</td>\n",
       "      <td>2021-05-19 11:30:20.928</td>\n",
       "      <td>2021-05-26 11:30:20.928</td>\n",
       "      <td>Отказ</td>\n",
       "      <td>0.0</td>\n",
       "      <td>4</td>\n",
       "    </tr>\n",
       "    <tr>\n",
       "      <th>15</th>\n",
       "      <td>Неустановившейся режим</td>\n",
       "      <td>2021-05-12 11:00:39.334</td>\n",
       "      <td>2021-05-19 11:00:39.334</td>\n",
       "      <td>Отказ</td>\n",
       "      <td>0.0</td>\n",
       "      <td>4</td>\n",
       "    </tr>\n",
       "    <tr>\n",
       "      <th>16</th>\n",
       "      <td>Неустановившейся режим</td>\n",
       "      <td>2021-05-01 06:32:41.000</td>\n",
       "      <td>2021-05-08 06:32:41.000</td>\n",
       "      <td>Отказ</td>\n",
       "      <td>0.0</td>\n",
       "      <td>4</td>\n",
       "    </tr>\n",
       "    <tr>\n",
       "      <th>4</th>\n",
       "      <td>Неустановившейся режим</td>\n",
       "      <td>2021-05-15 13:30:16.421</td>\n",
       "      <td>2021-05-22 13:30:16.421</td>\n",
       "      <td>Отказ</td>\n",
       "      <td>0.0</td>\n",
       "      <td>7</td>\n",
       "    </tr>\n",
       "  </tbody>\n",
       "</table>\n",
       "</div>"
      ],
      "text/plain": [
       "                     event               startDate                 endDate  \\\n",
       "27  Неустановившейся режим 2021-05-11 01:30:09.019 2021-05-18 01:30:09.019   \n",
       "28  Неустановившейся режим 2021-05-01 06:32:41.000 2021-05-08 06:32:41.000   \n",
       "9   Неустановившейся режим 2021-05-26 11:31:19.618 2021-06-02 11:31:19.618   \n",
       "10  Неустановившейся режим 2021-05-19 11:30:20.928 2021-05-26 11:30:20.928   \n",
       "15  Неустановившейся режим 2021-05-12 11:00:39.334 2021-05-19 11:00:39.334   \n",
       "16  Неустановившейся режим 2021-05-01 06:32:41.000 2021-05-08 06:32:41.000   \n",
       "4   Неустановившейся режим 2021-05-15 13:30:16.421 2021-05-22 13:30:16.421   \n",
       "\n",
       "    level  losses  well_id  \n",
       "27  Отказ     0.0        1  \n",
       "28  Отказ     0.0        1  \n",
       "9   Отказ     0.0        4  \n",
       "10  Отказ     0.0        4  \n",
       "15  Отказ     0.0        4  \n",
       "16  Отказ     0.0        4  \n",
       "4   Отказ     0.0        7  "
      ]
     },
     "execution_count": 59,
     "metadata": {},
     "output_type": "execute_result"
    }
   ],
   "source": [
    "events[events[\"startDate\"].dt.month == 5][[\"event\", \"startDate\", \"endDate\", \"level\", \"losses\", \"well_id\"]]"
   ]
  },
  {
   "cell_type": "code",
   "execution_count": 55,
   "metadata": {
    "pycharm": {
     "name": "#%%\n"
    }
   },
   "outputs": [
    {
     "data": {
      "text/plain": [
       "Index(['id', 'ruleName', 'event', 'result', 'parameters', 'startDate',\n",
       "       'endDate', 'status', 'level', 'activity', 'losses', 'fail',\n",
       "       'eventsType', 'eventsState', 'timeStamp', 'timeToLive', 'reject',\n",
       "       'comment', 'loginName', 'well_id', 'fact', 'weight'],\n",
       "      dtype='object')"
      ]
     },
     "execution_count": 55,
     "metadata": {},
     "output_type": "execute_result"
    }
   ],
   "source": [
    "events.columns"
   ]
  }
 ],
 "metadata": {
  "interpreter": {
   "hash": "079ab2951ccb9bca1bd28262bb9e3a1cb0ee5896eb1c121444f324b91aa06148"
  },
  "kernelspec": {
   "display_name": "Python 3.8.12 ('base')",
   "language": "python",
   "name": "python3"
  },
  "language_info": {
   "codemirror_mode": {
    "name": "ipython",
    "version": 3
   },
   "file_extension": ".py",
   "mimetype": "text/x-python",
   "name": "python",
   "nbconvert_exporter": "python",
   "pygments_lexer": "ipython3",
   "version": "3.8.12"
  },
  "orig_nbformat": 4
 },
 "nbformat": 4,
 "nbformat_minor": 2
}