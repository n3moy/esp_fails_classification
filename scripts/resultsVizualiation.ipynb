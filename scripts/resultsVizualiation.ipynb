{
 "cells": [
  {
   "cell_type": "code",
   "execution_count": 1,
   "metadata": {},
   "outputs": [],
   "source": [
    "%load_ext autoreload\n",
    "%autoreload 2\n",
    "\n",
    "import os\n",
    "import numpy as np\n",
    "import pandas as pd\n",
    "import matplotlib.pyplot as plt\n",
    "import seaborn as sns\n",
    "from datetime import datetime\n",
    "import warnings\n",
    "warnings.filterwarnings(\"ignore\")\n",
    "\n",
    "from imblearn.over_sampling import SMOTE\n",
    "from imblearn.over_sampling import SMOTENC\n",
    "from sklearn import metrics\n",
    "from sklearn.ensemble import RandomForestClassifier\n",
    "from sklearn.linear_model import LogisticRegression\n",
    "from sklearn.preprocessing import LabelEncoder\n",
    "from sklearn.model_selection import train_test_split, StratifiedShuffleSplit\n",
    "from sklearn.svm import LinearSVC\n",
    "\n",
    "from catboost import CatBoostClassifier\n",
    "import lightgbm as lgb\n",
    "from xgboost import XGBClassifier\n",
    "\n",
    "import data_preprocessing as data_prep\n",
    "from renameFeatures import rename_features, get_data_summary, get_data_summary2\n",
    "from data_vizualization import metrics_plotting, metrics_plotting_with_events\n",
    "import modelling"
   ]
  },
  {
   "cell_type": "code",
   "execution_count": 4,
   "metadata": {},
   "outputs": [],
   "source": [
    "plt.rcParams[\"figure.figsize\"] = (15, 10)"
   ]
  },
  {
   "cell_type": "code",
   "execution_count": 3,
   "metadata": {},
   "outputs": [],
   "source": [
    "results = pd.read_csv(\"./test_answers.csv\", parse_dates=[\"time\"])\n",
    "results = results.drop(\"Unnamed: 0\", axis=1)\n",
    "results = results.reset_index(drop=True)"
   ]
  },
  {
   "cell_type": "code",
   "execution_count": 5,
   "metadata": {},
   "outputs": [
    {
     "data": {
      "text/html": [
       "<div>\n",
       "<style scoped>\n",
       "    .dataframe tbody tr th:only-of-type {\n",
       "        vertical-align: middle;\n",
       "    }\n",
       "\n",
       "    .dataframe tbody tr th {\n",
       "        vertical-align: top;\n",
       "    }\n",
       "\n",
       "    .dataframe thead th {\n",
       "        text-align: right;\n",
       "    }\n",
       "</style>\n",
       "<table border=\"1\" class=\"dataframe\">\n",
       "  <thead>\n",
       "    <tr style=\"text-align: right;\">\n",
       "      <th></th>\n",
       "      <th>active_power</th>\n",
       "      <th>electricity_gage</th>\n",
       "      <th>event_id</th>\n",
       "      <th>frequency</th>\n",
       "      <th>intake_pressure</th>\n",
       "      <th>line_pressure</th>\n",
       "      <th>liquid_rate</th>\n",
       "      <th>motor_load</th>\n",
       "      <th>pump_temperature</th>\n",
       "      <th>time</th>\n",
       "      <th>...</th>\n",
       "      <th>pump_temperature_rol_std</th>\n",
       "      <th>pump_temperature_rol_max</th>\n",
       "      <th>pump_temperature_rol_min</th>\n",
       "      <th>pump_temperature_spk</th>\n",
       "      <th>failure_target</th>\n",
       "      <th>Well__1</th>\n",
       "      <th>Well__4</th>\n",
       "      <th>Well__7</th>\n",
       "      <th>Well__8</th>\n",
       "      <th>predicted</th>\n",
       "    </tr>\n",
       "  </thead>\n",
       "  <tbody>\n",
       "    <tr>\n",
       "      <th>0</th>\n",
       "      <td>72.010030</td>\n",
       "      <td>1765.09</td>\n",
       "      <td>0</td>\n",
       "      <td>95.11465</td>\n",
       "      <td>27.859285</td>\n",
       "      <td>20.529285</td>\n",
       "      <td>104.4</td>\n",
       "      <td>54.800000</td>\n",
       "      <td>96.0</td>\n",
       "      <td>2021-05-01 00:00:00</td>\n",
       "      <td>...</td>\n",
       "      <td>0.40406</td>\n",
       "      <td>97.0</td>\n",
       "      <td>95.0</td>\n",
       "      <td>1.00194</td>\n",
       "      <td>0</td>\n",
       "      <td>0</td>\n",
       "      <td>1</td>\n",
       "      <td>0</td>\n",
       "      <td>0</td>\n",
       "      <td>False</td>\n",
       "    </tr>\n",
       "    <tr>\n",
       "      <th>1</th>\n",
       "      <td>72.058550</td>\n",
       "      <td>1765.09</td>\n",
       "      <td>0</td>\n",
       "      <td>95.09646</td>\n",
       "      <td>27.855715</td>\n",
       "      <td>20.525715</td>\n",
       "      <td>104.4</td>\n",
       "      <td>54.830770</td>\n",
       "      <td>96.0</td>\n",
       "      <td>2021-05-01 00:02:00</td>\n",
       "      <td>...</td>\n",
       "      <td>0.40406</td>\n",
       "      <td>97.0</td>\n",
       "      <td>95.0</td>\n",
       "      <td>1.00194</td>\n",
       "      <td>0</td>\n",
       "      <td>0</td>\n",
       "      <td>1</td>\n",
       "      <td>0</td>\n",
       "      <td>0</td>\n",
       "      <td>False</td>\n",
       "    </tr>\n",
       "    <tr>\n",
       "      <th>2</th>\n",
       "      <td>72.103340</td>\n",
       "      <td>1765.09</td>\n",
       "      <td>0</td>\n",
       "      <td>95.08068</td>\n",
       "      <td>27.852142</td>\n",
       "      <td>20.522142</td>\n",
       "      <td>104.4</td>\n",
       "      <td>54.858974</td>\n",
       "      <td>96.0</td>\n",
       "      <td>2021-05-01 00:04:00</td>\n",
       "      <td>...</td>\n",
       "      <td>0.40406</td>\n",
       "      <td>97.0</td>\n",
       "      <td>95.0</td>\n",
       "      <td>1.00194</td>\n",
       "      <td>0</td>\n",
       "      <td>0</td>\n",
       "      <td>1</td>\n",
       "      <td>0</td>\n",
       "      <td>0</td>\n",
       "      <td>False</td>\n",
       "    </tr>\n",
       "    <tr>\n",
       "      <th>3</th>\n",
       "      <td>72.144424</td>\n",
       "      <td>1765.09</td>\n",
       "      <td>0</td>\n",
       "      <td>95.06731</td>\n",
       "      <td>27.848572</td>\n",
       "      <td>20.518572</td>\n",
       "      <td>104.4</td>\n",
       "      <td>54.884617</td>\n",
       "      <td>96.0</td>\n",
       "      <td>2021-05-01 00:06:00</td>\n",
       "      <td>...</td>\n",
       "      <td>0.40406</td>\n",
       "      <td>97.0</td>\n",
       "      <td>95.0</td>\n",
       "      <td>1.00194</td>\n",
       "      <td>0</td>\n",
       "      <td>0</td>\n",
       "      <td>1</td>\n",
       "      <td>0</td>\n",
       "      <td>0</td>\n",
       "      <td>False</td>\n",
       "    </tr>\n",
       "    <tr>\n",
       "      <th>4</th>\n",
       "      <td>72.181786</td>\n",
       "      <td>1765.09</td>\n",
       "      <td>0</td>\n",
       "      <td>95.05635</td>\n",
       "      <td>27.845000</td>\n",
       "      <td>20.515000</td>\n",
       "      <td>104.4</td>\n",
       "      <td>54.907692</td>\n",
       "      <td>96.0</td>\n",
       "      <td>2021-05-01 00:08:00</td>\n",
       "      <td>...</td>\n",
       "      <td>0.40406</td>\n",
       "      <td>97.0</td>\n",
       "      <td>95.0</td>\n",
       "      <td>1.00194</td>\n",
       "      <td>0</td>\n",
       "      <td>0</td>\n",
       "      <td>1</td>\n",
       "      <td>0</td>\n",
       "      <td>0</td>\n",
       "      <td>False</td>\n",
       "    </tr>\n",
       "  </tbody>\n",
       "</table>\n",
       "<p>5 rows × 63 columns</p>\n",
       "</div>"
      ],
      "text/plain": [
       "   active_power  electricity_gage  event_id  frequency  intake_pressure  \\\n",
       "0     72.010030           1765.09         0   95.11465        27.859285   \n",
       "1     72.058550           1765.09         0   95.09646        27.855715   \n",
       "2     72.103340           1765.09         0   95.08068        27.852142   \n",
       "3     72.144424           1765.09         0   95.06731        27.848572   \n",
       "4     72.181786           1765.09         0   95.05635        27.845000   \n",
       "\n",
       "   line_pressure  liquid_rate  motor_load  pump_temperature  \\\n",
       "0      20.529285        104.4   54.800000              96.0   \n",
       "1      20.525715        104.4   54.830770              96.0   \n",
       "2      20.522142        104.4   54.858974              96.0   \n",
       "3      20.518572        104.4   54.884617              96.0   \n",
       "4      20.515000        104.4   54.907692              96.0   \n",
       "\n",
       "                 time  ...  pump_temperature_rol_std  \\\n",
       "0 2021-05-01 00:00:00  ...                   0.40406   \n",
       "1 2021-05-01 00:02:00  ...                   0.40406   \n",
       "2 2021-05-01 00:04:00  ...                   0.40406   \n",
       "3 2021-05-01 00:06:00  ...                   0.40406   \n",
       "4 2021-05-01 00:08:00  ...                   0.40406   \n",
       "\n",
       "   pump_temperature_rol_max  pump_temperature_rol_min  pump_temperature_spk  \\\n",
       "0                      97.0                      95.0               1.00194   \n",
       "1                      97.0                      95.0               1.00194   \n",
       "2                      97.0                      95.0               1.00194   \n",
       "3                      97.0                      95.0               1.00194   \n",
       "4                      97.0                      95.0               1.00194   \n",
       "\n",
       "   failure_target  Well__1  Well__4  Well__7  Well__8  predicted  \n",
       "0               0        0        1        0        0      False  \n",
       "1               0        0        1        0        0      False  \n",
       "2               0        0        1        0        0      False  \n",
       "3               0        0        1        0        0      False  \n",
       "4               0        0        1        0        0      False  \n",
       "\n",
       "[5 rows x 63 columns]"
      ]
     },
     "execution_count": 5,
     "metadata": {},
     "output_type": "execute_result"
    }
   ],
   "source": [
    "results.head()"
   ]
  },
  {
   "cell_type": "code",
   "execution_count": 8,
   "metadata": {},
   "outputs": [
    {
     "name": "stdout",
     "output_type": "stream",
     "text": [
      "Precision --- 0.31645569620253167\n",
      "Recall --- 0.8240096764439069\n",
      "ROC_AUC --- 0.7637466079506756\n"
     ]
    }
   ],
   "source": [
    "modelling.evaluate_results(results[\"failure_target\"], results[\"predicted\"])"
   ]
  },
  {
   "cell_type": "code",
   "execution_count": 9,
   "metadata": {},
   "outputs": [
    {
     "data": {
      "text/plain": [
       "Index(['active_power', 'electricity_gage', 'event_id', 'frequency',\n",
       "       'intake_pressure', 'line_pressure', 'liquid_rate', 'motor_load',\n",
       "       'pump_temperature', 'time', 'voltage_unbalance', 'current_unbalance',\n",
       "       'voltage', 'current', 'resistance', 'current_deriv', 'current_rol_mean',\n",
       "       'current_rol_std', 'current_rol_max', 'current_rol_min', 'current_spk',\n",
       "       'voltage_deriv', 'voltage_rol_mean', 'voltage_rol_std',\n",
       "       'voltage_rol_max', 'voltage_rol_min', 'voltage_spk',\n",
       "       'active_power_deriv', 'active_power_rol_mean', 'active_power_rol_std',\n",
       "       'active_power_rol_max', 'active_power_rol_min', 'active_power_spk',\n",
       "       'frequency_deriv', 'frequency_rol_mean', 'frequency_rol_std',\n",
       "       'frequency_rol_max', 'frequency_rol_min', 'frequency_spk',\n",
       "       'electricity_gage_deriv', 'electricity_gage_rol_mean',\n",
       "       'electricity_gage_rol_std', 'electricity_gage_rol_max',\n",
       "       'electricity_gage_rol_min', 'electricity_gage_spk', 'motor_load_deriv',\n",
       "       'motor_load_rol_mean', 'motor_load_rol_std', 'motor_load_rol_max',\n",
       "       'motor_load_rol_min', 'motor_load_spk', 'pump_temperature_deriv',\n",
       "       'pump_temperature_rol_mean', 'pump_temperature_rol_std',\n",
       "       'pump_temperature_rol_max', 'pump_temperature_rol_min',\n",
       "       'pump_temperature_spk', 'failure_target', 'Well__1', 'Well__4',\n",
       "       'Well__7', 'Well__8', 'predicted'],\n",
       "      dtype='object')"
      ]
     },
     "execution_count": 9,
     "metadata": {},
     "output_type": "execute_result"
    }
   ],
   "source": [
    "results.columns"
   ]
  },
  {
   "cell_type": "code",
   "execution_count": 20,
   "metadata": {},
   "outputs": [],
   "source": [
    "def permutations(string):\n",
    "    if len(string) == 1: return set(string)    # Условие выхода из рекурсии\n",
    "    first = string[0]                          # Первая буква в строке\n",
    "    print(string)\n",
    "    rest = permutations(string[1:])            # Рекурсия, вызываю функцию со строкой [1:] от изначальной\n",
    "    result = set()\n",
    "    for i in range(0, len(string)):            # Для всего количества имеющейся строки\n",
    "        for p in rest:\n",
    "            result.add(p[0:i] + first + p[i:])\n",
    "    print(result)\n",
    "    return result"
   ]
  },
  {
   "cell_type": "code",
   "execution_count": 21,
   "metadata": {},
   "outputs": [],
   "source": [
    "string = \"abab\""
   ]
  },
  {
   "cell_type": "code",
   "execution_count": 22,
   "metadata": {},
   "outputs": [
    {
     "name": "stdout",
     "output_type": "stream",
     "text": [
      "abab\n",
      "bab\n",
      "ab\n",
      "{'ab', 'ba'}\n",
      "{'abb', 'bab', 'bba'}\n",
      "{'abba', 'abab', 'baab', 'bbaa', 'aabb', 'baba'}\n"
     ]
    },
    {
     "data": {
      "text/plain": [
       "{'aabb', 'abab', 'abba', 'baab', 'baba', 'bbaa'}"
      ]
     },
     "execution_count": 22,
     "metadata": {},
     "output_type": "execute_result"
    }
   ],
   "source": [
    "permutations(string)"
   ]
  },
  {
   "cell_type": "code",
   "execution_count": 27,
   "metadata": {},
   "outputs": [],
   "source": [
    "a = \"00011010\""
   ]
  },
  {
   "cell_type": "code",
   "execution_count": 28,
   "metadata": {},
   "outputs": [
    {
     "data": {
      "text/plain": [
       "'000b10'"
      ]
     },
     "execution_count": 28,
     "metadata": {},
     "output_type": "execute_result"
    }
   ],
   "source": [
    "a.replace(\"110\", \"b\")"
   ]
  },
  {
   "cell_type": "code",
   "execution_count": 25,
   "metadata": {},
   "outputs": [
    {
     "data": {
      "text/plain": [
       "[44, 2, 3, 4]"
      ]
     },
     "execution_count": 25,
     "metadata": {},
     "output_type": "execute_result"
    }
   ],
   "source": [
    "a"
   ]
  },
  {
   "cell_type": "code",
   "execution_count": 26,
   "metadata": {},
   "outputs": [
    {
     "name": "stdout",
     "output_type": "stream",
     "text": [
      "\u001b[1;31mSignature:\u001b[0m \u001b[0msorted\u001b[0m\u001b[1;33m(\u001b[0m\u001b[0miterable\u001b[0m\u001b[1;33m,\u001b[0m \u001b[1;33m/\u001b[0m\u001b[1;33m,\u001b[0m \u001b[1;33m*\u001b[0m\u001b[1;33m,\u001b[0m \u001b[0mkey\u001b[0m\u001b[1;33m=\u001b[0m\u001b[1;32mNone\u001b[0m\u001b[1;33m,\u001b[0m \u001b[0mreverse\u001b[0m\u001b[1;33m=\u001b[0m\u001b[1;32mFalse\u001b[0m\u001b[1;33m)\u001b[0m\u001b[1;33m\u001b[0m\u001b[1;33m\u001b[0m\u001b[0m\n",
      "\u001b[1;31mDocstring:\u001b[0m\n",
      "Return a new list containing all items from the iterable in ascending order.\n",
      "\n",
      "A custom key function can be supplied to customize the sort order, and the\n",
      "reverse flag can be set to request the result in descending order.\n",
      "\u001b[1;31mType:\u001b[0m      builtin_function_or_method\n"
     ]
    }
   ],
   "source": [
    "sorted?"
   ]
  },
  {
   "cell_type": "code",
   "execution_count": null,
   "metadata": {},
   "outputs": [],
   "source": []
  },
  {
   "cell_type": "code",
   "execution_count": null,
   "metadata": {},
   "outputs": [],
   "source": []
  }
 ],
 "metadata": {
  "interpreter": {
   "hash": "079ab2951ccb9bca1bd28262bb9e3a1cb0ee5896eb1c121444f324b91aa06148"
  },
  "kernelspec": {
   "display_name": "Python 3.8.12 ('base')",
   "language": "python",
   "name": "python3"
  },
  "language_info": {
   "codemirror_mode": {
    "name": "ipython",
    "version": 3
   },
   "file_extension": ".py",
   "mimetype": "text/x-python",
   "name": "python",
   "nbconvert_exporter": "python",
   "pygments_lexer": "ipython3",
   "version": "3.8.12"
  },
  "orig_nbformat": 4
 },
 "nbformat": 4,
 "nbformat_minor": 2
}
